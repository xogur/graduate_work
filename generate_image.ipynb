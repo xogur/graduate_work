{
 "cells": [
  {
   "cell_type": "code",
   "execution_count": 5,
   "id": "a4c5aaca",
   "metadata": {},
   "outputs": [],
   "source": [
    "from PIL import Image\n",
    "\n",
    "def generate_image(input_image_path, output_image_path):\n",
    "    # 이미지 열기\n",
    "    image = Image.open(input_image_path)\n",
    "    \n",
    "    # 이미지를 90도 회전\n",
    "    generate_image = image.rotate(90, expand=True)\n",
    "    \n",
    "    # 회전된 이미지를 jpg 형식으로 저장\n",
    "    generate_image.save(output_image_path, format='JPEG')\n",
    "\n",
    "# 입력 이미지 파일 경로와 출력 이미지 파일 경로 설정\n",
    "input_image_path = 'needles.jpg'\n",
    "output_image_path = 'generate_image.jpg'\n",
    "\n",
    "# 함수 호출하여 이미지 회전 및 저장\n",
    "generate_image(input_image_path, output_image_path)\n"
   ]
  },
  {
   "cell_type": "code",
   "execution_count": null,
   "id": "1d652665",
   "metadata": {},
   "outputs": [],
   "source": []
  }
 ],
 "metadata": {
  "kernelspec": {
   "display_name": "Python 3 (ipykernel)",
   "language": "python",
   "name": "python3"
  },
  "language_info": {
   "codemirror_mode": {
    "name": "ipython",
    "version": 3
   },
   "file_extension": ".py",
   "mimetype": "text/x-python",
   "name": "python",
   "nbconvert_exporter": "python",
   "pygments_lexer": "ipython3",
   "version": "3.9.13"
  }
 },
 "nbformat": 4,
 "nbformat_minor": 5
}
